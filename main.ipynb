{
 "cells": [
  {
   "cell_type": "code",
   "execution_count": null,
   "id": "c03ab162",
   "metadata": {},
   "outputs": [],
   "source": [
    "from misc import timeit\n",
    "import numpy as np\n",
    "from Simulation import SimulationThermostat\n",
    "import pandas as pd\n",
    "import matplotlib.pyplot as plt\n",
    "import settings\n",
    "\n",
    "\n",
    "##test for git 2"
   ]
  },
  {
   "cell_type": "code",
   "execution_count": null,
   "id": "ba43a411",
   "metadata": {},
   "outputs": [],
   "source": [
    "g=SimulationThermostat(True, 'run05', True, 'Energyrun05', False, '', 20)"
   ]
  },
  {
   "cell_type": "code",
   "execution_count": null,
   "id": "2162f53c",
   "metadata": {},
   "outputs": [],
   "source": [
    "energyprod = pd.read_csv('Energyrun0520prod', sep= ' ', header= None ).values\n",
    "energyeq = pd.read_csv('Energyrun0520eq', sep= ' ', header= None ).values\n"
   ]
  },
  {
   "cell_type": "code",
   "execution_count": null,
   "id": "0b1ca1a5",
   "metadata": {},
   "outputs": [],
   "source": [
    "\n",
    "\n",
    "plt.plot(energyprod[:,0],energyprod[:,1]/4.184e-6, label='Epot')\n",
    "plt.plot(energyprod[:,0],energyprod[:,2]/4.184e-6, label = 'Ekin')\n",
    "#plt.plot(energyprod[:,0],energyprod[:,2]/4.184e-6+ energyprod[:,1]/4.184e-6, label='Etot')\n",
    "plt.xlabel('time in fs')\n",
    "plt.ylabel('Energy in kcal')\n",
    "plt.legend()\n",
    "plt.savefig('Energy05prod')\n",
    "print(np.mean(energyprod[:,1]/4.184e-6), np.std(energyprod[:,1]/4.184e-6))"
   ]
  },
  {
   "cell_type": "code",
   "execution_count": null,
   "id": "6134f3bc",
   "metadata": {},
   "outputs": [],
   "source": [
    "s0 =1\n",
    "for a in np.linspace(10,20,1000):\n",
    "    std= np.std(a*energyprod[:,2]/4.184e-6+ energyprod[:,1]/4.184e-6)\n",
    "    if std < s0:\n",
    "        tp = (a,std)\n",
    "    s0 = std\n",
    "print(tp)"
   ]
  },
  {
   "cell_type": "code",
   "execution_count": null,
   "id": "b8d30d41",
   "metadata": {},
   "outputs": [],
   "source": [
    "nbins = int(settings.L/2 / settings.dr)\n",
    "r = np.linspace(0,nbins* settings.dr, nbins) + 1/3*settings.dr\n",
    "\n",
    "plt.plot(r,g, label='g(r)')\n",
    "plt.axvline(r[np.argmin(g[35:])+ 35], color='black', label='minimum')\n",
    "plt.xlabel('distance in nm')\n",
    "plt.ylabel('g(r)')\n",
    "plt.legend()\n",
    "plt.savefig('g05prod')\n",
    "\n",
    "#plt.yscale('log')"
   ]
  },
  {
   "cell_type": "code",
   "execution_count": null,
   "id": "914ef063",
   "metadata": {},
   "outputs": [],
   "source": [
    "r[np.argmin(g[35:])+ 35]"
   ]
  },
  {
   "cell_type": "code",
   "execution_count": null,
   "id": "06a3cb75",
   "metadata": {},
   "outputs": [],
   "source": [
    "settings.init()"
   ]
  },
  {
   "cell_type": "code",
   "execution_count": null,
   "id": "cdca8fe2",
   "metadata": {},
   "outputs": [],
   "source": [
    "print(settings.rho)\n",
    "print(512/settings.L**3)"
   ]
  }
 ],
 "metadata": {
  "kernelspec": {
   "display_name": "Python 3",
   "language": "python",
   "name": "python3"
  },
  "language_info": {
   "codemirror_mode": {
    "name": "ipython",
    "version": 3
   },
   "file_extension": ".py",
   "mimetype": "text/x-python",
   "name": "python",
   "nbconvert_exporter": "python",
   "pygments_lexer": "ipython3",
   "version": "3.13.2"
  }
 },
 "nbformat": 4,
 "nbformat_minor": 5
}
